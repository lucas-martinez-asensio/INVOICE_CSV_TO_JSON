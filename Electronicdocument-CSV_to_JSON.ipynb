{
  "nbformat": 4,
  "nbformat_minor": 0,
  "metadata": {
    "colab": {
      "provenance": []
    },
    "kernelspec": {
      "name": "python3",
      "display_name": "Python 3"
    },
    "language_info": {
      "name": "python"
    }
  },
  "cells": [
    {
      "cell_type": "code",
      "execution_count": null,
      "metadata": {
        "colab": {
          "base_uri": "https://localhost:8080/"
        },
        "id": "EBPuhgDBo8C9",
        "outputId": "18c54a20-3498-4cf5-d6a8-16bcea8fdc04"
      },
      "outputs": [
        {
          "output_type": "stream",
          "name": "stdout",
          "text": [
            "{'Header': {'DocumentType': '3', 'DocumentGeneralType': '1', 'Detail': {'Dates': [{'DateType': 1, 'DateTime': '2023-10-23'}], 'Pos': '3297', 'FiscalAuthorizationCode': '33419764379499', 'AuthorizedNumber': '2'}, 'Receiver': {'DocumentType': 5, 'DocumentNumber': '1', 'BusinessName': 'Consumidor Final', 'TaxTreatment': 4}, 'Identification': [{'ExternalSoftwareId': 12, 'Code': 'whj6mKoCbcFACT', 'Primary': 'true'}]}, 'Items': [{'Quantity': 1, 'Description': 'Correccion', 'Code': {'CodeType': 7, 'Code': '7790001001054', 'SoftwareId': 12}, 'Vat': 7, 'Price': {'UnitPrice': 0, 'PriceType': 2}}], 'ContingencyDetail': [], 'Decision': []}\n",
            "{'Header': {'DocumentType': '3', 'DocumentGeneralType': '1', 'Detail': {'Dates': [{'DateType': 1, 'DateTime': '2023-10-23'}], 'Pos': '3297', 'FiscalAuthorizationCode': '33419764379499', 'AuthorizedNumber': '1'}, 'Receiver': {'DocumentType': 5, 'DocumentNumber': '1', 'BusinessName': 'Consumidor Final', 'TaxTreatment': 4}, 'Identification': [{'ExternalSoftwareId': 12, 'Code': '6eer1FvWL4FACT', 'Primary': 'true'}]}, 'Items': [{'Quantity': 1, 'Description': 'Correccion', 'Code': {'CodeType': 7, 'Code': '7790001001054', 'SoftwareId': 12}, 'Vat': 7, 'Price': {'UnitPrice': 0, 'PriceType': 2}}], 'ContingencyDetail': [], 'Decision': []}\n",
            "[\"[{{'Header': {'DocumentType': '3', 'DocumentGeneralType': '1', 'Detail': {'Dates': [{'DateType': 1, 'DateTime': '2023-10-23'}], 'Pos': '3297', 'FiscalAuthorizationCode': '33419764379499', 'AuthorizedNumber': '2'}, 'Receiver': {'DocumentType': 5, 'DocumentNumber': '1', 'BusinessName': 'Consumidor Final', 'TaxTreatment': 4}, 'Identification': [{'ExternalSoftwareId': 12, 'Code': 'whj6mKoCbcFACT', 'Primary': 'true'}]}, 'Items': [{'Quantity': 1, 'Description': 'Correccion', 'Code': {'CodeType': 7, 'Code': '7790001001054', 'SoftwareId': 12}, 'Vat': 7, 'Price': {'UnitPrice': 0, 'PriceType': 2}}], 'ContingencyDetail': [], 'Decision': []}}]\\n\", \"[{{'Header': {'DocumentType': '3', 'DocumentGeneralType': '1', 'Detail': {'Dates': [{'DateType': 1, 'DateTime': '2023-10-23'}], 'Pos': '3297', 'FiscalAuthorizationCode': '33419764379499', 'AuthorizedNumber': '1'}, 'Receiver': {'DocumentType': 5, 'DocumentNumber': '1', 'BusinessName': 'Consumidor Final', 'TaxTreatment': 4}, 'Identification': [{'ExternalSoftwareId': 12, 'Code': '6eer1FvWL4FACT', 'Primary': 'true'}]}, 'Items': [{'Quantity': 1, 'Description': 'Correccion', 'Code': {'CodeType': 7, 'Code': '7790001001054', 'SoftwareId': 12}, 'Vat': 7, 'Price': {'UnitPrice': 0, 'PriceType': 2}}], 'ContingencyDetail': [], 'Decision': []}}]\\n\"]\n"
          ]
        }
      ],
      "source": [
        "import csv\n",
        "import json\n",
        "import random\n",
        "import string\n",
        "\n",
        "def generate_random_alphanumeric_string(length=10):\n",
        "    alphanumeric_characters = string.ascii_letters + string.digits\n",
        "    random_string = ''.join(random.choice(alphanumeric_characters) for _ in range(length))\n",
        "    return random_string\n",
        "\n",
        "\n",
        "\n",
        "def csv_to_json(csv_file, json_output_file):\n",
        "    json_data_list = []\n",
        "\n",
        "    with open(csv_file, 'r', errors='ignore') as csvfile:\n",
        "        csv_reader = csv.DictReader(csvfile, delimiter=';')\n",
        "        for row in csv_reader:\n",
        "            random_string = generate_random_alphanumeric_string(10)\n",
        "            json_data = {\n",
        "                \"Header\": {\n",
        "                    \"DocumentType\": row['\\ufeffDocumentType'],\n",
        "                    \"DocumentGeneralType\": row['DocumentGeneralType'],\n",
        "                    \"Detail\": {\n",
        "                        \"Dates\": [{\n",
        "                        \"DateType\": 1,\n",
        "                        \"DateTime\": row['Date']\n",
        "                        }],\n",
        "                        \"Pos\": row['Pos'],\n",
        "                        \"FiscalAuthorizationCode\": row['FiscalCode'],\n",
        "                        \"AuthorizedNumber\": row['Number']\n",
        "                    },\n",
        "                    \"Receiver\": {\n",
        "                        \"DocumentType\": 5,\n",
        "                        \"DocumentNumber\": \"1\",\n",
        "                        \"BusinessName\": \"Consumidor Final\",\n",
        "                        \"TaxTreatment\": 4\n",
        "                    },\n",
        "                    \"Identification\": [{\n",
        "                        \"ExternalSoftwareId\": 12,\n",
        "                        \"Code\": random_string + \"FACT\",\n",
        "                        \"Primary\": \"true\"\n",
        "                      }\n",
        "                    ]\n",
        "                },\n",
        "                \"Items\": [\n",
        "                    {\n",
        "                        \"Quantity\": 1,\n",
        "                        \"Description\": \"Correccion\",\n",
        "                        \"Code\":{\n",
        "                          \"CodeType\": 7,\n",
        "                          \"Code\": \"7790001001054\",\n",
        "                          \"SoftwareId\": 12\n",
        "                        },\n",
        "                        \"Vat\": 7,\n",
        "                        \"Price\": {\n",
        "                            \"UnitPrice\": 0,\n",
        "                            \"PriceType\": 2\n",
        "                        }\n",
        "                    }\n",
        "                ],\n",
        "                \"ContingencyDetail\": [],\n",
        "                \"Decision\": []\n",
        "            }\n",
        "            print(json_data)\n",
        "            json_data_list.append(\"[{\" + str(json_data) + \"}]\\n\")\n",
        "    print(json_data_list)\n",
        "\n",
        "    with open(json_output_file, 'w') as jsonfile:\n",
        "        json.dump(json_data_list, jsonfile, indent=0)\n",
        "\n",
        "csv_input_file = 'NIKE.csv'\n",
        "\n",
        "json_output_file = 'output.json'\n",
        "\n",
        "csv_to_json(csv_input_file, json_output_file)"
      ]
    },
    {
      "cell_type": "code",
      "source": [],
      "metadata": {
        "id": "ah_mOTtdjPXJ"
      },
      "execution_count": null,
      "outputs": []
    }
  ]
}